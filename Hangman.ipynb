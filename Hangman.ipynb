{
  "nbformat": 4,
  "nbformat_minor": 0,
  "metadata": {
    "colab": {
      "provenance": [],
      "authorship_tag": "ABX9TyPmGH9w6PHKChnl1K91ZXdZ",
      "include_colab_link": true
    },
    "kernelspec": {
      "name": "python3",
      "display_name": "Python 3"
    },
    "language_info": {
      "name": "python"
    }
  },
  "cells": [
    {
      "cell_type": "markdown",
      "metadata": {
        "id": "view-in-github",
        "colab_type": "text"
      },
      "source": [
        "<a href=\"https://colab.research.google.com/github/Varnitha2204/Hangman/blob/main/Hangman.ipynb\" target=\"_parent\"><img src=\"https://colab.research.google.com/assets/colab-badge.svg\" alt=\"Open In Colab\"/></a>"
      ]
    },
    {
      "cell_type": "code",
      "execution_count": 24,
      "metadata": {
        "id": "Ydi62zpXUstJ"
      },
      "outputs": [],
      "source": [
        "#import the random library\n",
        "import random\n",
        "import nltk\n",
        "from nltk.corpus import words"
      ]
    },
    {
      "cell_type": "code",
      "source": [
        "#Create a list of words that the user can choose from\n",
        "# words = [\"python\",\"programming\",\"operating\",\"networks\",\"datastructures\",\"functions\", ]\n",
        "nltk.download('words')\n",
        "words = nltk.corpus.words.words()\n"
      ],
      "metadata": {
        "id": "fMqJ0a9vU8nk",
        "colab": {
          "base_uri": "https://localhost:8080/"
        },
        "outputId": "0a1bc04b-4ced-48e1-b257-9483e723d6f5"
      },
      "execution_count": 25,
      "outputs": [
        {
          "output_type": "stream",
          "name": "stderr",
          "text": [
            "[nltk_data] Downloading package words to /root/nltk_data...\n",
            "[nltk_data]   Unzipping corpora/words.zip.\n"
          ]
        }
      ]
    },
    {
      "cell_type": "code",
      "source": [
        "#Choose a random word\n",
        "word = random.choice(words)\n",
        "#Create a empty list that will be used to store the guessed letters by users\n",
        "guess_letters = []\n",
        "wrong_guesses = 0 #This variable is to count the number of wrong guesses"
      ],
      "metadata": {
        "id": "aV9qH2HMVQBf"
      },
      "execution_count": 26,
      "outputs": []
    },
    {
      "cell_type": "code",
      "source": [
        "#Function to display the word with the guessed letters\n",
        "def display_word():\n",
        "    display = \"\"\n",
        "    for letter in word:\n",
        "        if letter in guess_letters:\n",
        "            display += letter + \" \"\n",
        "        else:\n",
        "            display += \"_ \"\n",
        "    print(display)"
      ],
      "metadata": {
        "id": "dg_SpZB4Vz51"
      },
      "execution_count": 27,
      "outputs": []
    },
    {
      "cell_type": "code",
      "source": [
        "#Function to display the guessed letters\n",
        "def display_guessed_letters():\n",
        "    print(\"Guessed Letters:\", \" \".join(guess_letters))"
      ],
      "metadata": {
        "id": "ZNFRiazOVwYW"
      },
      "execution_count": 28,
      "outputs": []
    },
    {
      "cell_type": "code",
      "source": [
        "#Create the main game\n",
        "print(\"Welcome to Hangman!\")\n",
        "print(\"Happy Playing\")\n",
        "print(\"Guess the word by entering one letter at a time.\")\n",
        "print(\"You have 10 wrong guesses the game ends. On the 11th wrong guess you lose.\")\n",
        "\n",
        "\n",
        "#Create a loop for 10 incorrect letter guesses\n",
        "while wrong_guesses < 10:\n",
        "    print()\n",
        "    display_word()\n",
        "    display_guessed_letters()\n",
        "\n",
        "    #Getting the users input letter and making it lowercase\n",
        "    guess = input(\"Enter a letter: \").lower()\n",
        "\n",
        "    #Check if the letter has already been guessed\n",
        "    if guess in guess_letters:\n",
        "        print(\"You already guessed that letter. Try again.\")\n",
        "        continue\n",
        "\n",
        "    #Add the letter to the list of guessed letters\n",
        "    guess_letters.append(guess)\n",
        "\n",
        "    #If the guessed letter is not in the randomly chosen word then increase wrong guess by 1\n",
        "    if guess not in word:\n",
        "        wrong_guesses += 1\n",
        "        print(\"Wrong guess! You have\", 10 - wrong_guesses, \"guesses left.\")\n",
        "    #Check if the user guessed the word with all of the letters that the user guessed\n",
        "    if all(letter in guess_letters for letter in word):\n",
        "        print(\"Congratulations! You guessed the word:\", word)\n",
        "        break\n",
        "    if len(guess) != 1 or not guess.isalpha():\n",
        "        print(\"Please enter a single letter.\")\n",
        "        continue\n",
        "#Check if the user ran out of number of guesses\n",
        "else:\n",
        "    print(\"Sorry, you ran out of guesses. The word was:\", word)\n",
        "    k\n",
        "\n"
      ],
      "metadata": {
        "id": "J5R40zTsW1RE",
        "colab": {
          "base_uri": "https://localhost:8080/"
        },
        "outputId": "1c0ebe9b-ed5a-4b1e-f29e-220203953dd4"
      },
      "execution_count": 29,
      "outputs": [
        {
          "output_type": "stream",
          "name": "stdout",
          "text": [
            "Welcome to Hangman!\n",
            "Happy Playing\n",
            "Guess the word by entering one letter at a time.\n",
            "You have 10 wrong guesses the game ends. On the 11th wrong guess you lose.\n",
            "\n",
            "_ _ _ _ _ _ _ _ _ \n",
            "Guessed Letters: \n",
            "Enter a letter: e\n",
            "\n",
            "e _ _ _ e _ _ _ e \n",
            "Guessed Letters: e\n",
            "Enter a letter: s\n",
            "Wrong guess! You have 9 guesses left.\n",
            "\n",
            "e _ _ _ e _ _ _ e \n",
            "Guessed Letters: e s\n",
            "Enter a letter: a\n",
            "\n",
            "e _ _ _ e _ a _ e \n",
            "Guessed Letters: e s a\n",
            "Enter a letter: t\n",
            "\n",
            "e _ _ _ e _ a t e \n",
            "Guessed Letters: e s a t\n",
            "Enter a letter: p\n",
            "Wrong guess! You have 8 guesses left.\n",
            "\n",
            "e _ _ _ e _ a t e \n",
            "Guessed Letters: e s a t p\n",
            "Enter a letter: l\n",
            "Wrong guess! You have 7 guesses left.\n",
            "\n",
            "e _ _ _ e _ a t e \n",
            "Guessed Letters: e s a t p l\n",
            "Enter a letter: r\n",
            "\n",
            "e _ _ _ e r a t e \n",
            "Guessed Letters: e s a t p l r\n",
            "Enter a letter: n\n",
            "Wrong guess! You have 6 guesses left.\n",
            "\n",
            "e _ _ _ e r a t e \n",
            "Guessed Letters: e s a t p l r n\n",
            "Enter a letter: m\n",
            "Wrong guess! You have 5 guesses left.\n",
            "\n",
            "e _ _ _ e r a t e \n",
            "Guessed Letters: e s a t p l r n m\n",
            "Enter a letter: u\n",
            "\n",
            "e _ u _ e r a t e \n",
            "Guessed Letters: e s a t p l r n m u\n",
            "Enter a letter: d\n",
            "Wrong guess! You have 4 guesses left.\n",
            "\n",
            "e _ u _ e r a t e \n",
            "Guessed Letters: e s a t p l r n m u d\n",
            "Enter a letter: c\n",
            "Wrong guess! You have 3 guesses left.\n",
            "\n",
            "e _ u _ e r a t e \n",
            "Guessed Letters: e s a t p l r n m u d c\n",
            "Enter a letter: b\n",
            "\n",
            "e _ u b e r a t e \n",
            "Guessed Letters: e s a t p l r n m u d c b\n",
            "Enter a letter: g\n",
            "Wrong guess! You have 2 guesses left.\n",
            "\n",
            "e _ u b e r a t e \n",
            "Guessed Letters: e s a t p l r n m u d c b g\n",
            "Enter a letter: h\n",
            "Wrong guess! You have 1 guesses left.\n",
            "\n",
            "e _ u b e r a t e \n",
            "Guessed Letters: e s a t p l r n m u d c b g h\n",
            "Enter a letter: x\n",
            "Congratulations! You guessed the word: exuberate\n"
          ]
        }
      ]
    }
  ]
}